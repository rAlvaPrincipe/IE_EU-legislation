{
 "cells": [
  {
   "cell_type": "code",
   "execution_count": null,
   "id": "42d6d2ad-7dc4-4b06-9611-af0859168d48",
   "metadata": {},
   "outputs": [],
   "source": [
    "import requests\n",
    "import json\n",
    "from gatenlp import Document\n",
    "from glob import glob\n",
    "import os\n",
    "from tqdm import tqdm"
   ]
  },
  {
   "cell_type": "code",
   "execution_count": null,
   "id": "e4474444-a8d3-46a6-8ec0-86c62a6a68f6",
   "metadata": {},
   "outputs": [],
   "source": [
    "spacyner_url = 'http://localhost:13221/api/spacyner'"
   ]
  },
  {
   "cell_type": "code",
   "execution_count": null,
   "id": "f9308d75",
   "metadata": {},
   "outputs": [],
   "source": [
    "doc_data = []\n",
    "for file in tqdm(glob(\"./DocumentsStore/bologna_english/*.annotated\")):\n",
    "    with open(file, \"r\", encoding=\"utf-8\") as f:\n",
    "        content = json.load(f)\n",
    "        \n",
    "        gdoc = Document.from_dict(content)\n",
    "        doc_data.append(gdoc)"
   ]
  },
  {
   "cell_type": "code",
   "execution_count": null,
   "id": "f45522b4",
   "metadata": {},
   "outputs": [],
   "source": [
    "index = 1\n",
    "doc_data[index].name"
   ]
  },
  {
   "cell_type": "code",
   "execution_count": null,
   "id": "d15fb58e",
   "metadata": {},
   "outputs": [],
   "source": [
    "doc_data[index]"
   ]
  },
  {
   "cell_type": "code",
   "execution_count": null,
   "id": "818cb2e9",
   "metadata": {},
   "outputs": [],
   "source": [
    "doc_data = []\n",
    "for file in tqdm(glob(\"./DocumentsStore/bologna_english/*.txt\")):\n",
    "    with open(file, \"r\", encoding=\"utf-8\") as f:\n",
    "        content = f.read()\n",
    "        gdoc = Document(content)\n",
    "        gdoc.name = os.path.splitext(os.path.basename(file))[0]\n",
    "        doc_data.append(gdoc)"
   ]
  },
  {
   "cell_type": "code",
   "execution_count": null,
   "id": "3db8191d",
   "metadata": {},
   "outputs": [],
   "source": [
    "len(doc_data[5].text)"
   ]
  },
  {
   "cell_type": "code",
   "execution_count": null,
   "id": "98b83fe9-6960-422e-8de2-bcbf2a793d3a",
   "metadata": {},
   "outputs": [],
   "source": [
    "doc_list = glob('*.json')"
   ]
  },
  {
   "cell_type": "code",
   "execution_count": null,
   "id": "ad1f2959-3ad2-4dc1-9484-9fc5c4f878a9",
   "metadata": {},
   "outputs": [],
   "source": [
    "doc_list"
   ]
  },
  {
   "cell_type": "code",
   "execution_count": null,
   "id": "e033ce12-5605-4a88-bc8d-cf98b5307d1e",
   "metadata": {},
   "outputs": [],
   "source": [
    "for doc in tqdm(doc_data):\n",
    "\n",
    "    res = requests.post(spacyner_url, json=doc.to_dict())\n",
    "\n",
    "    assert res.ok\n",
    "    gdoc = Document.from_dict(res.json())\n",
    "\n",
    "    res = requests.post(\n",
    "                \"http://localhost:13224/api/blink/biencoder/mention/doc\",\n",
    "                json=gdoc.to_dict(),\n",
    "            )\n",
    "\n",
    "    assert res.ok\n",
    "    gdoc = Document.from_dict(res.json())\n",
    "\n",
    "    res = requests.post(\n",
    "        \"http://localhost:13223/api/indexer/search/doc\",\n",
    "        json=gdoc.to_dict(),\n",
    "    )\n",
    "\n",
    "    assert res.ok\n",
    "    gdoc = Document.from_dict(res.json())\n",
    "\n",
    "    res = requests.post(\n",
    "        \"http://localhost:13225/api/nilprediction/doc\",\n",
    "        json=gdoc.to_dict(),\n",
    "    )\n",
    "\n",
    "    assert res.ok\n",
    "    gdoc = Document.from_dict(res.json())\n",
    "\n",
    "    res = requests.post(\n",
    "                \"http://localhost:13226/api/nilcluster/doc\",\n",
    "                json=gdoc.to_dict(),\n",
    "            )\n",
    "\n",
    "    assert res.ok\n",
    "    gdoc = Document.from_dict(res.json())\n",
    "\n",
    "    for ann in gdoc.annset('entities_'):\n",
    "        if 'encoding' in ann.features.get('linking'):\n",
    "            del ann.features['linking']['encoding']\n",
    "\n",
    "    with open('DocumentStore/bologna_english/' + gdoc.name + '.json.annotated', 'w') as f:\n",
    "        doc = json.dump(gdoc.to_dict(), f)"
   ]
  },
  {
   "cell_type": "code",
   "execution_count": null,
   "id": "f0df189b-ef81-48f9-a098-aa7f9b1844b6",
   "metadata": {},
   "outputs": [],
   "source": []
  },
  {
   "cell_type": "code",
   "execution_count": null,
   "id": "4a6cd8cb-af75-4a2f-9303-5a05bb5b68d2",
   "metadata": {},
   "outputs": [],
   "source": [
    "res = requests.post(spacyner_url, json = doc)"
   ]
  },
  {
   "cell_type": "code",
   "execution_count": null,
   "id": "23f375b9-1521-46a4-a947-294b0b4c21fc",
   "metadata": {},
   "outputs": [],
   "source": [
    "assert res.ok\n",
    "gdoc = Document.from_dict(res.json())"
   ]
  },
  {
   "cell_type": "code",
   "execution_count": null,
   "id": "30c230ad-cf77-4280-9aaa-ad3be7b8ebbc",
   "metadata": {},
   "outputs": [],
   "source": [
    "for ann in gdoc.annset('entities_'):\n",
    "    if 'encoding' in ann.features.get('linking'):\n",
    "        del ann.features['linking']['encoding']"
   ]
  },
  {
   "cell_type": "code",
   "execution_count": null,
   "id": "0ca1ec7e-72b7-446f-be0f-30587b1ebc19",
   "metadata": {},
   "outputs": [],
   "source": [
    "ann.features['linking']['encoding']"
   ]
  },
  {
   "cell_type": "code",
   "execution_count": null,
   "id": "1e63c741-e808-46cf-9165-40d7c09c396d",
   "metadata": {},
   "outputs": [],
   "source": [
    "res = requests.post(\n",
    "            \"http://10.0.0.108:13224/api/blink/biencoder/mention/doc\",\n",
    "            json=gdoc.to_dict(),\n",
    "        )"
   ]
  },
  {
   "cell_type": "code",
   "execution_count": null,
   "id": "fbf0bba5-dd17-4e13-8527-fbc80643b1de",
   "metadata": {},
   "outputs": [],
   "source": [
    "assert res.ok\n",
    "gdoc = Document.from_dict(res.json())"
   ]
  },
  {
   "cell_type": "code",
   "execution_count": null,
   "id": "4ea7e694-d16d-4513-ae35-a47e456a4dc4",
   "metadata": {},
   "outputs": [],
   "source": [
    "gdoc"
   ]
  },
  {
   "cell_type": "code",
   "execution_count": null,
   "id": "ff3ff7d6-9452-4fba-863a-16beb7d1b351",
   "metadata": {},
   "outputs": [],
   "source": [
    "res = requests.post(\n",
    "            \"http://10.0.0.108:13223/api/indexer/search/doc\",\n",
    "            json=gdoc.to_dict(),\n",
    "        )"
   ]
  },
  {
   "cell_type": "code",
   "execution_count": null,
   "id": "66d43708-421b-40c3-b1b4-c361638bf68a",
   "metadata": {},
   "outputs": [],
   "source": [
    "assert res.ok\n",
    "gdoc = Document.from_dict(res.json())"
   ]
  },
  {
   "cell_type": "code",
   "execution_count": null,
   "id": "09ebb347-523b-456a-97a1-6a4db63c4254",
   "metadata": {},
   "outputs": [],
   "source": [
    "gdoc"
   ]
  },
  {
   "cell_type": "code",
   "execution_count": null,
   "id": "a2f67051-c8f3-4388-a62a-5935748c6268",
   "metadata": {},
   "outputs": [],
   "source": [
    "res = requests.post(\n",
    "            \"http://10.0.0.108:13225/api/nilprediction/doc\",\n",
    "            json=gdoc.to_dict(),\n",
    "        )"
   ]
  },
  {
   "cell_type": "code",
   "execution_count": null,
   "id": "ccf050de-55b5-4cae-b65e-4af5c7db6058",
   "metadata": {},
   "outputs": [],
   "source": [
    "assert res.ok\n",
    "gdoc = Document.from_dict(res.json())\n",
    "gdoc"
   ]
  },
  {
   "cell_type": "code",
   "execution_count": null,
   "id": "2454426a-ef28-4236-8128-4ce8c5eca778",
   "metadata": {},
   "outputs": [],
   "source": [
    "res = requests.post(\n",
    "            \"http://10.0.0.108:13226/api/nilcluster/doc\",\n",
    "            json=gdoc.to_dict(),\n",
    "        )"
   ]
  },
  {
   "cell_type": "code",
   "execution_count": null,
   "id": "998a79b6-ad93-4221-8d4e-afad7c8a6a22",
   "metadata": {},
   "outputs": [],
   "source": [
    "assert res.ok\n",
    "gdoc = Document.from_dict(res.json())\n",
    "gdoc"
   ]
  },
  {
   "cell_type": "code",
   "execution_count": null,
   "id": "1f372380-e17f-4d32-8ce7-c16f34a43e65",
   "metadata": {},
   "outputs": [],
   "source": [
    "# check annset to link"
   ]
  },
  {
   "cell_type": "code",
   "execution_count": null,
   "id": "621c9582-e43d-4202-af24-289ae22856e6",
   "metadata": {},
   "outputs": [],
   "source": [
    "gdoc"
   ]
  }
 ],
 "metadata": {
  "kernelspec": {
   "display_name": "torch",
   "language": "python",
   "name": "python3"
  },
  "language_info": {
   "codemirror_mode": {
    "name": "ipython",
    "version": 3
   },
   "file_extension": ".py",
   "mimetype": "text/x-python",
   "name": "python",
   "nbconvert_exporter": "python",
   "pygments_lexer": "ipython3",
   "version": "3.10.16"
  }
 },
 "nbformat": 4,
 "nbformat_minor": 5
}
